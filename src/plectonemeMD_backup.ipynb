{
 "cells": [
  {
   "cell_type": "code",
   "execution_count": null,
   "metadata": {},
   "outputs": [],
   "source": [
    "%load_ext autoreload\n",
    "%autoreload 2"
   ]
  },
  {
   "cell_type": "code",
   "execution_count": null,
   "metadata": {},
   "outputs": [],
   "source": [
    "from chromatinMD import *"
   ]
  },
  {
   "cell_type": "code",
   "execution_count": null,
   "metadata": {},
   "outputs": [],
   "source": [
    "workingDirectory = '..'"
   ]
  },
  {
   "cell_type": "code",
   "execution_count": null,
   "metadata": {},
   "outputs": [],
   "source": [
    "dna = strand( L=160, d=3.E-9, psiEnd=0.0, thetaEnd=np.pi/4.0, uniformlyTwisted=False)\n",
    "tf=1.E-4\n",
    "saves=100.0\n",
    "interval=tf/saves\n",
    "ts=np.arange(0.0,tf,interval)\n",
    "step=1.e-8\n",
    "times=np.arange(0.0,interval,step)\n",
    "n_turns = 12.\n",
    "sols=[dna.r]\n",
    "for t in tqdm(ts[1:]):\n",
    "    dna.psiEnd += 2.0 * np.pi * n_turns / saves\n",
    "    r0 = dna.r.flatten()\n",
    "    rs = odeint( rDot, r0, times, args=(dna, ))\n",
    "#    rs = simpleEuler( rDot, r0, times, args=(dna, ))\n",
    "    dna.r = rs[-1].reshape( dna.L, 4 )\n",
    "    dna.removeLocalStretch()\n",
    "    sols.append(dna.r)"
   ]
  },
  {
   "cell_type": "code",
   "execution_count": null,
   "metadata": {},
   "outputs": [],
   "source": [
    "extension=[]\n",
    "#turns = ( n_turns / saves ) * np.arange(len(sols))\n",
    "#sigma = turns * 3.57E-9 / ( dna.L * dna.d )\n",
    "for i in np.arange(len(sols)):\n",
    "    vec = sols[i][:,:3]\n",
    "    extension.append( np.sqrt(vec[-1,0]**2+vec[-1,1]**2+vec[-1,2]**2) )\n",
    "plt.plot( 1.E9 * np.array(ts), np.array(extension)  / ( dna.L * dna.d ), 'C0')\n",
    "plt.plot( 1.E9 * np.array(ts), 0.9*np.ones((len(extension))), 'k--')\n",
    "plt.xlabel(r'$t$ [ns]')\n",
    "plt.ylabel( r' $\\langle z \\rangle / L_0$' )\n",
    "#plt.axis([0.0,100,0.0,1.02])\n",
    "#plt.xticks(np.arange(0,0.16,0.02))\n",
    "plt.yticks(np.arange(0,1.1,0.2))\n",
    "plt.tight_layout()\n",
    "#plt.savefig(\"fig/zxt.png\")\n",
    "plt.show()"
   ]
  },
  {
   "cell_type": "code",
   "execution_count": null,
   "metadata": {},
   "outputs": [],
   "source": [
    "fig = plt.figure()\n",
    "ax = fig.gca(projection='3d')\n",
    "ax.set_xlabel( \"x\" )\n",
    "ax.set_ylabel( \"y\" )\n",
    "ax.set_zlabel( \"z\" )\n",
    "ax.set_xlim(-300,200)\n",
    "ax.set_ylim(0,300)\n",
    "ax.set_zlim(0,300)\n",
    "step=1\n",
    "ax.view_init(None, 45)\n",
    "plt.show()\n",
    "ims = []\n",
    "#for i in np.arange(0,len(sols),step):\n",
    "for i in np.arange(len(sols)):\n",
    "    vec = sols[i]\n",
    "    x = vec[:,0] * 1.E9\n",
    "    y = vec[:,1] * 1.E9\n",
    "    z = vec[:,2] * 1.E9\n",
    "    ims.append(ax.plot(x, y, z,'k'));\n",
    "    plt.clf();\n",
    "im_ani = animation.ArtistAnimation(fig, ims, interval=80, repeat_delay=3000, blit=True);\n",
    "im_ani.save('fig/dna_supercoiling.avi');"
   ]
  },
  {
   "cell_type": "code",
   "execution_count": null,
   "metadata": {},
   "outputs": [],
   "source": [
    "extension=[]\n",
    "#turns = ( n_turns / saves ) * np.arange(len(sols))\n",
    "#sigma = turns * 3.57E-9 / ( dna.L * dna.d )\n",
    "for i in np.arange(len(sols)):\n",
    "    vec = sols[i][:,:3]\n",
    "    extension.append( np.sqrt(vec[-1,0]**2+vec[-1,1]**2+vec[-1,2]**2) )\n",
    "plt.plot( 1.E9 * np.array(ts), np.array(extension)  / ( dna.L * dna.d ), 'C0')\n",
    "plt.plot( 1.E9 * np.array(ts), 0.9*np.ones((len(extension))), 'k--')\n",
    "plt.xlabel(r'$t$ [ns]')\n",
    "plt.ylabel( r' $\\langle z \\rangle / L_0$' )\n",
    "plt.axis([0.0,100,0.0,1.02])\n",
    "#plt.xticks(np.arange(0,0.16,0.02))\n",
    "plt.yticks(np.arange(0,1.1,0.2))\n",
    "plt.tight_layout()\n",
    "plt.savefig(\"fig/zxt.png\")\n",
    "plt.show()"
   ]
  }
 ],
 "metadata": {
  "kernelspec": {
   "display_name": "Python 3",
   "language": "python",
   "name": "python3"
  },
  "language_info": {
   "codemirror_mode": {
    "name": "ipython",
    "version": 3
   },
   "file_extension": ".py",
   "mimetype": "text/x-python",
   "name": "python",
   "nbconvert_exporter": "python",
   "pygments_lexer": "ipython3",
   "version": "3.6.3"
  }
 },
 "nbformat": 4,
 "nbformat_minor": 2
}
