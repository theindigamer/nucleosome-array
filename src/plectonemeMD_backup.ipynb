{
 "cells": [
  {
   "cell_type": "code",
   "execution_count": null,
   "metadata": {},
   "outputs": [],
   "source": [
    "%load_ext autoreload\n",
    "%autoreload 2"
   ]
  },
  {
   "cell_type": "code",
   "execution_count": null,
   "metadata": {},
   "outputs": [],
   "source": [
    "from chromatinMD import *"
   ]
  },
  {
   "cell_type": "code",
   "execution_count": null,
   "metadata": {},
   "outputs": [],
   "source": [
    "workingDirectory = '..'"
   ]
  },
  {
   "cell_type": "code",
   "execution_count": null,
   "metadata": {},
   "outputs": [],
   "source": [
    "dna = strand( L=32, psiEnd=0.0, thetaEnd=np.pi/4.0, uniformlyTwisted=False)\n",
    "tf=100.E-5\n",
    "interval=1.E-5\n",
    "step=interval/100.0\n",
    "sols=[dna.r]\n",
    "t=0.0\n",
    "times = np.arange(0.0, interval, step)\n",
    "while t<tf:\n",
    "    dna.psiEnd += 2.0 * np.pi * 20.0 / 100.0\n",
    "    r0 = dna.r.flatten()\n",
    "    rs = odeint(rDot, r0, times, args=(dna, 4.8E8))\n",
    "    dna.r = rs[-1].reshape( dna.L, 4 )\n",
    "    dna.removeLocalStretch()\n",
    "    sols.append(dna.r)\n",
    "    t+=interval"
   ]
  },
  {
   "cell_type": "code",
   "execution_count": null,
   "metadata": {},
   "outputs": [],
   "source": [
    "fig = plt.figure()\n",
    "ax = fig.gca(projection='3d')\n",
    "ax.set_xlabel( \"x\" )\n",
    "ax.set_ylabel( \"y\" )\n",
    "ax.set_zlabel( \"z\" )\n",
    "ax.set_xlim(-150,100)\n",
    "ax.set_ylim(0,500)\n",
    "ax.set_zlim(0,500)\n",
    "step=1\n",
    "ax.view_init(None, 45)\n",
    "plt.show()\n",
    "ims = []\n",
    "#for i in np.arange(0,len(sols),step):\n",
    "for i in np.arange(0,100,step):\n",
    "    vec = sols[i]\n",
    "    x = vec[:,0] * 1.E9\n",
    "    y = vec[:,1] * 1.E9\n",
    "    z = vec[:,2] * 1.E9\n",
    "    ims.append(ax.plot(x, y, z,'k'));\n",
    "    plt.clf();\n",
    "im_ani = animation.ArtistAnimation(fig, ims, interval=80, repeat_delay=3000, blit=True);\n",
    "im_ani.save('fig/dna_supercoiling.avi');"
   ]
  },
  {
   "cell_type": "code",
   "execution_count": null,
   "metadata": {},
   "outputs": [],
   "source": [
    "extension=[]\n",
    "ES = []\n",
    "EB = []\n",
    "ET = []\n",
    "ETT = []\n",
    "turns = 20.0 / 100.0 * np.arange(len(sols))\n",
    "for i in np.arange(len(sols)):\n",
    "    vec = sols[i][:,:3]\n",
    "    extension.append( np.sqrt(vec[-1,0]**2+vec[-1,1]**2+vec[-1,2]**2)* 1.E9 )\n",
    "    dna.r = sols[i]\n",
    "    euler = angular( dna )\n",
    "    ES.append( euler.stretchEnergy( dna ) )\n",
    "    EB.append( euler.bendingEnergy( dna ) )\n",
    "    ET.append( euler.twistEnergy( dna ) )\n",
    "    ETT.append( euler.totalEnergy( dna ) )"
   ]
  },
  {
   "cell_type": "code",
   "execution_count": null,
   "metadata": {},
   "outputs": [],
   "source": [
    "plt.plot(turns,extension)\n",
    "plt.xlabel('turns')\n",
    "plt.ylabel('Extension [nm]')\n",
    "plt.show()"
   ]
  },
  {
   "cell_type": "code",
   "execution_count": null,
   "metadata": {},
   "outputs": [],
   "source": [
    "dna = strand( L=32, psiEnd=40.0*np.pi, thetaEnd=np.pi/4.0, uniformlyTwisted=True)\n",
    "dna.r[:,1:3]*=0.0\n",
    "dna.r[:,1] = dna.d * np.arange(dna.L)\n",
    "interval=1.E-4\n",
    "step=interval/100.0\n",
    "tf=1.E-2\n",
    "sols=[dna.r]\n",
    "t=0.0\n",
    "times = np.arange(0.0, interval, step)\n",
    "while t<tf:\n",
    "    r0 = dna.r.flatten()\n",
    "    rs = odeint(rDot, r0, times, args=(dna, ))\n",
    "    dna.r = rs[-1].reshape( dna.L, 4 )\n",
    "    dna.removeLocalStretch()\n",
    "    sols.append(dna.r)\n",
    "    t+=interval"
   ]
  },
  {
   "cell_type": "code",
   "execution_count": null,
   "metadata": {},
   "outputs": [],
   "source": [
    "fig = plt.figure()\n",
    "ax = fig.gca(projection='3d')\n",
    "ax.set_xlabel( \"x\" )\n",
    "ax.set_ylabel( \"y\" )\n",
    "ax.set_zlabel( \"z\" )\n",
    "ax.set_xlim(-350,350)\n",
    "ax.set_ylim(0,740)\n",
    "ax.set_zlim(0,740)\n",
    "step=1\n",
    "#ax.view_init(None, 30)\n",
    "plt.show()\n",
    "ims = []\n",
    "for i in np.arange(0,len(sols),step):\n",
    "    vec = sols[i]\n",
    "    x = vec[:,0] * 1.E9\n",
    "    y = vec[:,1] * 1.E9\n",
    "    z = vec[:,2] * 1.E9\n",
    "    ims.append(ax.plot(x, y, z,'k'));\n",
    "    plt.clf();\n",
    "im_ani = animation.ArtistAnimation(fig, ims, interval=100, repeat_delay=3000, blit=True);\n",
    "im_ani.save('fig/dna_supercoiling.gif');"
   ]
  },
  {
   "cell_type": "code",
   "execution_count": null,
   "metadata": {},
   "outputs": [],
   "source": [
    "extension=[]\n",
    "ES = []\n",
    "EB = []\n",
    "ET = []\n",
    "ETT = []\n",
    "for i in np.arange(len(sols)):\n",
    "    vec = sols[i][:,:3]\n",
    "    extension.append( np.sqrt(vec[-1,0]**2+vec[-1,1]**2+vec[-1,2]**2)* 1.E9 )\n",
    "    dna.r = sols[i]\n",
    "    euler = angular( dna )\n",
    "    ES.append( euler.stretchEnergy( dna ) )\n",
    "    EB.append( euler.bendingEnergy( dna ) )\n",
    "    ET.append( euler.twistEnergy( dna ) )\n",
    "    ETT.append( euler.totalEnergy( dna ) )"
   ]
  },
  {
   "cell_type": "code",
   "execution_count": null,
   "metadata": {},
   "outputs": [],
   "source": [
    "plt.plot(extension)\n",
    "plt.show()"
   ]
  },
  {
   "cell_type": "code",
   "execution_count": null,
   "metadata": {},
   "outputs": [],
   "source": [
    "#TWIST + BEND + FORCE RELAXATION\n",
    "#\n",
    "#"
   ]
  },
  {
   "cell_type": "code",
   "execution_count": null,
   "metadata": {},
   "outputs": [],
   "source": [
    "dna = strand( L=16, psiEnd=20.0 * 2.0 * np.pi, thetaEnd=np.pi/4.0, uniformlyTwisted=True)\n",
    "dna.r[:,1:3]*=0.0\n",
    "dna.r[:,1] = dna.d * np.arange(dna.L)\n",
    "interval=1.E-5\n",
    "step=1.E-6\n",
    "tf=1.E-3\n",
    "sols=[dna.r]\n",
    "t=0.0\n",
    "times = np.arange(0.0, interval, step)\n",
    "while t<tf:\n",
    "    r0 = dna.r.flatten()\n",
    "    rs = odeint(rDot, r0, times, args=(dna, ))\n",
    "    dna.r = rs[-1].reshape( dna.L, 4 )\n",
    "    dna.removeLocalStretch()\n",
    "    sols.append(dna.r)\n",
    "    t+=interval"
   ]
  },
  {
   "cell_type": "code",
   "execution_count": null,
   "metadata": {},
   "outputs": [],
   "source": [
    "fig = plt.figure()\n",
    "ax = fig.gca(projection='3d')\n",
    "ax.view_init(None, 80)\n",
    "plt.show()\n",
    "ims = []\n",
    "for i in np.arange(len(sols)):\n",
    "    vec = sols[i]\n",
    "    x = vec[:,0] * 1.E9\n",
    "    y = vec[:,1] * 1.E9\n",
    "    z = vec[:,2] * 1.E9\n",
    "    ims.append(ax.plot(x, y, z,'k'));\n",
    "    plt.clf();\n",
    "im_ani = animation.ArtistAnimation(fig, ims, interval=100, repeat_delay=3000, blit=True);\n",
    "im_ani.save('fig/dna_supercoiling.gif');"
   ]
  },
  {
   "cell_type": "code",
   "execution_count": null,
   "metadata": {},
   "outputs": [],
   "source": [
    "#TRANSLATION RELAXATION\n",
    "#\n",
    "# Start with strand aligned with y and relax. It also works well with other initial conditions. "
   ]
  },
  {
   "cell_type": "code",
   "execution_count": null,
   "metadata": {},
   "outputs": [],
   "source": [
    "dna = strand( L=8, psiEnd=0.0, thetaEnd=np.pi/4.0, uniformlyTwisted=True)\n",
    "dna.r[:,1:3]*=0.0\n",
    "dna.r[:,1] = dna.d * np.arange(dna.L)\n",
    "interval=1.E-3\n",
    "step=1.E-4\n",
    "tf=1.E-1\n",
    "sols=[dna.r]\n",
    "t=0.0\n",
    "times = np.arange(0.0, interval, step)\n",
    "while t<tf:\n",
    "    r0 = dna.r.flatten()\n",
    "    rs = odeint(rDot, r0, times, args=(dna, ))\n",
    "    dna.r = rs[-1].reshape( dna.L, 4 )\n",
    "    dna.removeLocalStretch()\n",
    "    sols.append(dna.r)\n",
    "    t+=interval"
   ]
  },
  {
   "cell_type": "code",
   "execution_count": null,
   "metadata": {},
   "outputs": [],
   "source": [
    "dna = strand( L=8, psiEnd=0.0, thetaEnd=np.pi/4.0, uniformlyTwisted=True)\n",
    "dna.r[:,1:3]*=0.0\n",
    "dna.r[:,1] = dna.d * np.arange(dna.L)\n",
    "interval=1.E-3\n",
    "step=1.E-4\n",
    "tf=1.E-1\n",
    "sols=[dna.r]\n",
    "t=0.0\n",
    "times = np.arange(0.0, interval, step)\n",
    "while t<tf:\n",
    "    r0 = dna.r.flatten()\n",
    "    rs = odeint(rDot, r0, times, args=(dna, ))\n",
    "    dna.r = rs[-1].reshape( dna.L, 4 )\n",
    "    dna.removeLocalStretch()\n",
    "    sols.append(dna.r)\n",
    "    t+=interval"
   ]
  },
  {
   "cell_type": "code",
   "execution_count": null,
   "metadata": {},
   "outputs": [],
   "source": [
    "plt.clf()\n",
    "for i in np.arange(len(sols)):\n",
    "    vec = sols[i]\n",
    "    x = vec[:,0] * 1.E9\n",
    "    y = vec[:,1]*1.E9\n",
    "    z = vec[:,2]*1.E9\n",
    "    plt.plot( y, z )\n",
    "plt.show()"
   ]
  },
  {
   "cell_type": "code",
   "execution_count": null,
   "metadata": {},
   "outputs": [],
   "source": [
    "ES = []\n",
    "EB = []\n",
    "ET = []\n",
    "ETT = []\n",
    "for i in np.arange(len(sols)):\n",
    "    dna.r = sols[i]\n",
    "    euler = angular( dna )\n",
    "    ES.append( euler.stretchEnergy( dna ) )\n",
    "    EB.append( euler.bendingEnergy( dna ) )\n",
    "    ET.append( euler.twistEnergy( dna ) )\n",
    "    ETT.append( euler.totalEnergy( dna ) )\n",
    "plt.clf()\n",
    "plt.plot(ES)\n",
    "plt.plot(EB)\n",
    "plt.plot(ET)\n",
    "plt.plot(ETT)\n",
    "plt.show()"
   ]
  },
  {
   "cell_type": "code",
   "execution_count": null,
   "metadata": {},
   "outputs": [],
   "source": [
    "#TWIST RELAXATION\n",
    "#\n",
    "#"
   ]
  },
  {
   "cell_type": "code",
   "execution_count": null,
   "metadata": {},
   "outputs": [],
   "source": [
    "dna = strand( L=128, psiEnd=1.0, thetaEnd=np.pi/4.0)\n",
    "times = np.arange(0.0, 1.E-5, 1.E-8 )\n",
    "r0 = 0.0*dna.r\n",
    "r0[:,1] = dna.d * np.sin(dna.thetaEnd) * np.arange(dna.L)\n",
    "r0[:,2] = dna.d * np.cos(dna.thetaEnd) * np.arange(dna.L)\n",
    "rs = odeint(rDot, r0.flatten(), times, args=(dna,))"
   ]
  },
  {
   "cell_type": "code",
   "execution_count": null,
   "metadata": {},
   "outputs": [],
   "source": [
    "savFig=False\n",
    "plt.clf()\n",
    "for i in np.arange(0,len(times),10):\n",
    "    dna.r=rs[i,...].reshape((dna.L,4))\n",
    "    x = 1.E9 * dna.d * np.arange(dna.L+1)\n",
    "    y = np.append(dna.r[:,3],dna.psiEnd)\n",
    "    plt.plot( x, y )\n",
    "plt.xlabel( r'$z$ [nm]', fontsize=20 )\n",
    "plt.ylabel( r'$\\psi$', fontsize=20 )\n",
    "plt.axis([0,dna.L*dna.d*1.E9,0,dna.psiEnd])\n",
    "filename = makeFilename( workingDirectory + 'fig/',['psi','vs','z','L%s'%str(dna.L)],'png' ) \n",
    "if savFig: plt.savefig( filename, bbox_inches='tight' )\n",
    "plt.show()"
   ]
  }
 ],
 "metadata": {
  "kernelspec": {
   "display_name": "Python [default]",
   "language": "python",
   "name": "python3"
  },
  "language_info": {
   "codemirror_mode": {
    "name": "ipython",
    "version": 3
   },
   "file_extension": ".py",
   "mimetype": "text/x-python",
   "name": "python",
   "nbconvert_exporter": "python",
   "pygments_lexer": "ipython3",
   "version": "3.6.3"
  }
 },
 "nbformat": 4,
 "nbformat_minor": 2
}
