{
 "cells": [
  {
   "cell_type": "code",
   "execution_count": null,
   "metadata": {},
   "outputs": [],
   "source": [
    "%load_ext autoreload\n",
    "%autoreload 2"
   ]
  },
  {
   "cell_type": "code",
   "execution_count": null,
   "metadata": {},
   "outputs": [],
   "source": [
    "from chromatinMD import *"
   ]
  },
  {
   "cell_type": "code",
   "execution_count": null,
   "metadata": {},
   "outputs": [],
   "source": [
    "workingDirectory = './'"
   ]
  },
  {
   "cell_type": "code",
   "execution_count": null,
   "metadata": {},
   "outputs": [],
   "source": [
    "def zPrime( angle, vector ):\n",
    "    return np.cos( angle ) * vector[:,2] - np.sin( angle ) * vector[:,1]\n",
    "def yPrime( angle, vector ):\n",
    "    return np.cos( angle ) * vector[:,1] + np.sin( angle ) * vector[:,2]"
   ]
  },
  {
   "cell_type": "code",
   "execution_count": null,
   "metadata": {},
   "outputs": [],
   "source": [
    "dna = strand( L=4, psiEnd=0.0, thetaEnd=np.pi/4.0, uniformlyTwisted=True)\n",
    "dna.r[:,1:3]*=0.0\n",
    "dna.r[:,1] = dna.d * np.arange(dna.L)\n",
    "interval=1.E-3\n",
    "step=1.E-4\n",
    "tf=1.E0\n",
    "sols=[dna.r]\n",
    "t=0.0\n",
    "times = np.arange(0.0, interval, step)\n",
    "while t<tf:\n",
    "    r0 = dna.r.flatten()\n",
    "    rs = odeint(rDot, r0, times, args=(dna, 4.8E9, True ))\n",
    "    dna.r = rs[-1].reshape( dna.L, 4 )\n",
    "    dna.removeLocalStretch()\n",
    "    sols.append(dna.r)\n",
    "    t+=interval"
   ]
  },
  {
   "cell_type": "code",
   "execution_count": null,
   "metadata": {},
   "outputs": [],
   "source": [
    "plt.clf()\n",
    "for i in np.arange(len(sols)):\n",
    "    vec = sols[i]\n",
    "    x = vec[:,0] * 1.E9\n",
    "    y = vec[:,1]*1.E9\n",
    "    z = vec[:,2]*1.E9\n",
    "    plt.plot( y, z )\n",
    "plt.show()"
   ]
  },
  {
   "cell_type": "code",
   "execution_count": null,
   "metadata": {},
   "outputs": [],
   "source": [
    "dna = strand( L=4, psiEnd=0.0, thetaEnd=np.pi/4.0, uniformlyTwisted=True)\n",
    "dna.r[:,1:3]*=0.0\n",
    "dna.r[:,1] = dna.d * np.arange(dna.L)\n",
    "interval=1.E-2\n",
    "step=1.E-3\n",
    "tf=1.E1\n",
    "sols=[dna.r]\n",
    "t=0.0\n",
    "times = np.arange(0.0, interval, step)\n",
    "while t<tf:\n",
    "    r0 = dna.r.flatten()\n",
    "    rs = odeint(rDot, r0, times, args=(dna, 4.8E9, True ))\n",
    "    dna.r = rs[-1].reshape( dna.L, 4 )\n",
    "    dna.removeLocalStretch()\n",
    "    sols.append(dna.r)\n",
    "    t+=interval"
   ]
  },
  {
   "cell_type": "code",
   "execution_count": null,
   "metadata": {},
   "outputs": [],
   "source": [
    "plt.clf()\n",
    "for i in np.arange(len(sols)):\n",
    "    vec = sols[i]\n",
    "    x = vec[:,0] * 1.E9\n",
    "    y = vec[:,1]*1.E9\n",
    "    z = vec[:,2]*1.E9\n",
    "    plt.plot( y, z )\n",
    "plt.show()"
   ]
  },
  {
   "cell_type": "code",
   "execution_count": null,
   "metadata": {},
   "outputs": [],
   "source": [
    "dna = strand( L=16, psiEnd=0.0, thetaEnd=np.pi/4.0, uniformlyTwisted=True)\n",
    "dna.r[:,1:3]*=0.0\n",
    "dna.r[:,1] = dna.d * np.arange(dna.L)\n",
    "interval=1.E-4\n",
    "step=1.E-5\n",
    "tf=1.E-1\n",
    "sols=[dna.r]\n",
    "t=0.0\n",
    "times = np.arange(0.0, interval, step)\n",
    "while t<tf:\n",
    "    r0 = dna.r.flatten()\n",
    "    rs = odeint(rDot, r0, times, args=(dna, 4.8E9, True ))\n",
    "    dna.r = rs[-1].reshape( dna.L, 4 )\n",
    "    dna.removeLocalStretch()\n",
    "    sols.append(dna.r)\n",
    "    t+=interval"
   ]
  },
  {
   "cell_type": "code",
   "execution_count": null,
   "metadata": {},
   "outputs": [],
   "source": [
    "plt.clf()\n",
    "for i in np.arange(len(sols)):\n",
    "    vec = sols[i]\n",
    "    x = vec[:,0] * 1.E9\n",
    "    y = vec[:,1]*1.E9\n",
    "    z = vec[:,2]*1.E9\n",
    "    plt.plot( y, z )\n",
    "plt.show()"
   ]
  },
  {
   "cell_type": "code",
   "execution_count": null,
   "metadata": {},
   "outputs": [],
   "source": []
  },
  {
   "cell_type": "code",
   "execution_count": null,
   "metadata": {},
   "outputs": [],
   "source": [
    "dna = strand( L=16, psiEnd=0.0, thetaEnd=np.pi/4.0, uniformlyTwisted=True)\n",
    "dna.r[:,1:3]*=0.0\n",
    "dna.r[:,1] = dna.d * np.arange(dna.L)\n",
    "r0 = dna.r.flatten()\n",
    "times = np.arange(0.0, 1.E-1, 1.E-4 )\n",
    "rs = odeint(rDot, r0, times, args=(dna, 4.8E9, True ))"
   ]
  },
  {
   "cell_type": "code",
   "execution_count": null,
   "metadata": {},
   "outputs": [],
   "source": [
    "sols = rs.reshape( len(times), dna.L, 4)\n",
    "ang = dna.thetaEnd\n",
    "plt.clf()\n",
    "for i in np.arange(len(times)):\n",
    "    vec = sols[i,...]\n",
    "    x = vec[:,0] * 1.E9\n",
    "    y = vec[:,1]*1.E9\n",
    "    z = vec[:,2]*1.E9\n",
    "    plt.plot( y, z )\n",
    "plt.show()"
   ]
  },
  {
   "cell_type": "code",
   "execution_count": null,
   "metadata": {},
   "outputs": [],
   "source": [
    "dna.r=sols[-1]"
   ]
  },
  {
   "cell_type": "code",
   "execution_count": null,
   "metadata": {},
   "outputs": [],
   "source": [
    "np.sqrt(dna.tangent()[:,0]**2+dna.tangent()[:,1]**2+dna.tangent()[:,2]**2)/dna.d"
   ]
  },
  {
   "cell_type": "code",
   "execution_count": null,
   "metadata": {},
   "outputs": [],
   "source": [
    "dna.r[:,3]"
   ]
  },
  {
   "cell_type": "code",
   "execution_count": null,
   "metadata": {},
   "outputs": [],
   "source": []
  },
  {
   "cell_type": "code",
   "execution_count": null,
   "metadata": {},
   "outputs": [],
   "source": []
  },
  {
   "cell_type": "code",
   "execution_count": null,
   "metadata": {},
   "outputs": [],
   "source": []
  },
  {
   "cell_type": "code",
   "execution_count": null,
   "metadata": {},
   "outputs": [],
   "source": [
    "dna = strand( L=128, psiEnd=1.0, thetaEnd=np.pi/4.0)\n",
    "times = np.arange(0.0, 1.E-5, 1.E-8 )\n",
    "r0 = 0.0*dna.r\n",
    "r0[:,1] = dna.d * np.sin(dna.thetaEnd) * np.arange(dna.L)\n",
    "r0[:,2] = dna.d * np.cos(dna.thetaEnd) * np.arange(dna.L)\n",
    "rs = odeint(rDot, r0.flatten(), times, args=(dna,))"
   ]
  },
  {
   "cell_type": "code",
   "execution_count": null,
   "metadata": {},
   "outputs": [],
   "source": [
    "savFig=False\n",
    "plt.clf()\n",
    "for i in np.arange(0,len(times),10):\n",
    "    dna.r=rs[i,...].reshape((dna.L,4))\n",
    "    x = 1.E9 * dna.d * np.arange(dna.L+1)\n",
    "    y = np.append(dna.r[:,3],dna.psiEnd)\n",
    "    plt.plot( x, y )\n",
    "plt.xlabel( r'$z$ [nm]', fontsize=20 )\n",
    "plt.ylabel( r'$\\psi$', fontsize=20 )\n",
    "plt.axis([0,dna.L*dna.d*1.E9,0,dna.psiEnd])\n",
    "filename = makeFilename( workingDirectory + 'fig/',['psi','vs','z','L%s'%str(dna.L)],'png' ) \n",
    "if savFig: plt.savefig( filename, bbox_inches='tight' )\n",
    "plt.show()"
   ]
  },
  {
   "cell_type": "code",
   "execution_count": null,
   "metadata": {},
   "outputs": [],
   "source": []
  }
 ],
 "metadata": {
  "kernelspec": {
   "display_name": "Python [default]",
   "language": "python",
   "name": "python3"
  },
  "language_info": {
   "codemirror_mode": {
    "name": "ipython",
    "version": 3
   },
   "file_extension": ".py",
   "mimetype": "text/x-python",
   "name": "python",
   "nbconvert_exporter": "python",
   "pygments_lexer": "ipython3",
   "version": "3.6.3"
  }
 },
 "nbformat": 4,
 "nbformat_minor": 2
}
